{
  "nbformat": 4,
  "nbformat_minor": 0,
  "metadata": {
    "colab": {
      "provenance": [],
      "authorship_tag": "ABX9TyMToqqO6CNc+CoKuIExPZGe",
      "include_colab_link": true
    },
    "kernelspec": {
      "name": "python3",
      "display_name": "Python 3"
    },
    "language_info": {
      "name": "python"
    }
  },
  "cells": [
    {
      "cell_type": "markdown",
      "metadata": {
        "id": "view-in-github",
        "colab_type": "text"
      },
      "source": [
        "<a href=\"https://colab.research.google.com/github/arzucivelekoglu/keras-tensorflow-subject/blob/main/2_keras_model_performance_analysis.ipynb\" target=\"_parent\"><img src=\"https://colab.research.google.com/assets/colab-badge.svg\" alt=\"Open In Colab\"/></a>"
      ]
    },
    {
      "cell_type": "markdown",
      "source": [
        "# **Keras Model Performance Analysis**"
      ],
      "metadata": {
        "id": "XfuEll5NgteM"
      }
    },
    {
      "cell_type": "markdown",
      "source": [
        "Kaydettiğimiz modeli yüklüyoruz"
      ],
      "metadata": {
        "id": "eBWQcVnlWROt"
      }
    },
    {
      "cell_type": "code",
      "execution_count": 2,
      "metadata": {
        "id": "FgoMYWJnWGRC"
      },
      "outputs": [],
      "source": [
        "from tensorflow.keras.models import load_model\n",
        "\n",
        "model = load_model(\"/content/mnist_simple_cnn_25_epochs.h5\")"
      ]
    },
    {
      "cell_type": "markdown",
      "source": [
        "Mnist veri setini yüklüyoruz"
      ],
      "metadata": {
        "id": "P_Q-AglAWxtc"
      }
    },
    {
      "cell_type": "code",
      "source": [
        "from tensorflow.keras.datasets import mnist\n",
        "\n",
        "(x_train, y_train), (x_test, y_test) = mnist.load_data()"
      ],
      "metadata": {
        "colab": {
          "base_uri": "https://localhost:8080/"
        },
        "id": "_lraM23zWvgu",
        "outputId": "ad445234-1b38-4254-e7bc-a61fb3b1c8cd"
      },
      "execution_count": 3,
      "outputs": [
        {
          "output_type": "stream",
          "name": "stdout",
          "text": [
            "Downloading data from https://storage.googleapis.com/tensorflow/tf-keras-datasets/mnist.npz\n",
            "11490434/11490434 [==============================] - 1s 0us/step\n"
          ]
        }
      ]
    },
    {
      "cell_type": "markdown",
      "source": [
        "Veri setinde düzenlemeler yapıp test veri seti üzerinden tahmin yapıyoruz"
      ],
      "metadata": {
        "id": "2ulF6_4lXIOg"
      }
    },
    {
      "cell_type": "code",
      "source": [
        "import numpy as np\n",
        "\n",
        "x_test = x_test.reshape(10000, 28, 28, 1)\n",
        "\n",
        "pred = np.argmax(model.predict(x_test), axis=-1)"
      ],
      "metadata": {
        "colab": {
          "base_uri": "https://localhost:8080/"
        },
        "id": "0OrerP2hXDex",
        "outputId": "e3f3e915-c25d-46a2-da1b-e00a48d17082"
      },
      "execution_count": 4,
      "outputs": [
        {
          "output_type": "stream",
          "name": "stdout",
          "text": [
            "313/313 [==============================] - 7s 22ms/step\n"
          ]
        }
      ]
    },
    {
      "cell_type": "markdown",
      "source": [],
      "metadata": {
        "id": "GJPGzP-jXmrE"
      }
    },
    {
      "cell_type": "code",
      "source": [
        "result = np.absolute(y_test - pred)\n",
        "misclassified_indices = np.nonzero(result > 0) # yanlış sınıflandırılmış_indisler\n"
      ],
      "metadata": {
        "id": "8EGQuGdvXsjK"
      },
      "execution_count": 17,
      "outputs": []
    },
    {
      "cell_type": "code",
      "source": [
        "misclassified_indices"
      ],
      "metadata": {
        "id": "T9HMcVl9ZFsz"
      },
      "execution_count": null,
      "outputs": []
    },
    {
      "cell_type": "code",
      "source": [
        "len(misclassified_indices[0])"
      ],
      "metadata": {
        "colab": {
          "base_uri": "https://localhost:8080/"
        },
        "id": "QtELmWCBXsdw",
        "outputId": "8466ea7b-e753-4af1-91e7-1b6c99e3117c"
      },
      "execution_count": 16,
      "outputs": [
        {
          "output_type": "execute_result",
          "data": {
            "text/plain": [
              "502"
            ]
          },
          "metadata": {},
          "execution_count": 16
        }
      ]
    },
    {
      "cell_type": "code",
      "source": [
        "import cv2\n",
        "\n",
        "def imshow(title=\"\", image = None, size = 6):\n",
        "      plt.imshow(cv2.cvtColor(image, cv2.COLOR_BGR2RGB))\n",
        "      plt.show()"
      ],
      "metadata": {
        "id": "ohrh6KI3c_EZ"
      },
      "execution_count": 26,
      "outputs": []
    },
    {
      "cell_type": "code",
      "source": [
        "import matplotlib.pyplot as plt\n",
        "import numpy as np\n",
        "\n",
        "L = 5\n",
        "W = 5\n",
        "fig, axes = plt.subplots(L, W, figsize=(12,12))\n",
        "axes = axes.ravel()\n",
        "\n",
        "\n",
        "for i in np.arange(0, L*W):\n",
        "  input_image = x_test[misclassified_indices[0][i]]\n",
        "  index = misclassified_indices[0][i]\n",
        "  predict_index = str(np.argmax(model.predict(input_image.reshape(1,28,28,1)), axis=-1)[0])\n",
        "\n",
        "  axes[i].imshow(input_image.reshape(28,28), cmap='gray_r')\n",
        "  axes[i].set_title(f\"Prediction Class = {predict_index}\\n Original Class = {y_test[index]}\")\n",
        "  axes[i].axis('off')\n",
        "\n",
        "plt.subplots_adjust(wspace=0.5)"
      ],
      "metadata": {
        "colab": {
          "base_uri": "https://localhost:8080/",
          "height": 1000
        },
        "id": "cclTECSjXsaM",
        "outputId": "c60c1bc6-c30e-4e6f-c6cd-a6484c1afdd4"
      },
      "execution_count": 35,
      "outputs": [
        {
          "output_type": "stream",
          "name": "stdout",
          "text": [
            "1/1 [==============================] - 0s 27ms/step\n",
            "1/1 [==============================] - 0s 25ms/step\n",
            "1/1 [==============================] - 0s 29ms/step\n",
            "1/1 [==============================] - 0s 26ms/step\n",
            "1/1 [==============================] - 0s 24ms/step\n",
            "1/1 [==============================] - 0s 24ms/step\n",
            "1/1 [==============================] - 0s 29ms/step\n",
            "1/1 [==============================] - 0s 29ms/step\n",
            "1/1 [==============================] - 0s 24ms/step\n",
            "1/1 [==============================] - 0s 25ms/step\n",
            "1/1 [==============================] - 0s 25ms/step\n",
            "1/1 [==============================] - 0s 27ms/step\n",
            "1/1 [==============================] - 0s 25ms/step\n",
            "1/1 [==============================] - 0s 24ms/step\n",
            "1/1 [==============================] - 0s 24ms/step\n",
            "1/1 [==============================] - 0s 27ms/step\n",
            "1/1 [==============================] - 0s 35ms/step\n",
            "1/1 [==============================] - 0s 35ms/step\n",
            "1/1 [==============================] - 0s 24ms/step\n",
            "1/1 [==============================] - 0s 25ms/step\n",
            "1/1 [==============================] - 0s 25ms/step\n",
            "1/1 [==============================] - 0s 26ms/step\n",
            "1/1 [==============================] - 0s 24ms/step\n",
            "1/1 [==============================] - 0s 30ms/step\n",
            "1/1 [==============================] - 0s 24ms/step\n"
          ]
        },
        {
          "output_type": "display_data",
          "data": {
            "text/plain": [
              "<Figure size 1200x1200 with 25 Axes>"
            ],
            "image/png": "[encoded data removed]"
          },
          "metadata": {}
        }
      ]
    },
    {
      "cell_type": "code",
      "source": [],
      "metadata": {
        "id": "CP5XDbITahTC"
      },
      "execution_count": 33,
      "outputs": []
    },
    {
      "cell_type": "markdown",
      "source": [
        "Confusion Matrix Oluşturuyoruz"
      ],
      "metadata": {
        "id": "y_XxvrVDeuMc"
      }
    },
    {
      "cell_type": "code",
      "source": [
        "from sklearn.metrics import confusion_matrix\n",
        "import numpy as np\n",
        "\n",
        "x_test = x_test.reshape(10000,28,28,1)\n",
        "y_pred = np.argmax(model.predict(x_test), axis=-1)\n",
        "\n",
        "print(confusion_matrix(y_test, y_pred))"
      ],
      "metadata": {
        "colab": {
          "base_uri": "https://localhost:8080/"
        },
        "id": "U5zQim7neX4b",
        "outputId": "2a6afa9a-07b9-493e-af2c-d7591ef78442"
      },
      "execution_count": 36,
      "outputs": [
        {
          "output_type": "stream",
          "name": "stdout",
          "text": [
            "313/313 [==============================] - 8s 27ms/step\n",
            "[[ 968    0    0    2    0    2    6    1    1    0]\n",
            " [   0 1117    2    2    0    0    4    1    9    0]\n",
            " [   8    1  964   15    7    1    9    9   16    2]\n",
            " [   3    1    7  964    0    6    1    8   11    9]\n",
            " [   1    1    6    0  929    0   10    2    4   29]\n",
            " [  13    2    1   31    1  812   14    1   10    7]\n",
            " [   9    3    2    1    7    8  924    1    3    0]\n",
            " [   2    6   20    3    4    0    0  967    4   22]\n",
            " [   6    3    1   21    5    9   10    6  905    8]\n",
            " [   9    6    1   12   18    1    1    8    5  948]]\n"
          ]
        }
      ]
    },
    {
      "cell_type": "markdown",
      "source": [
        "Her sınıfın doğruluk oranlarına bakıyoruz"
      ],
      "metadata": {
        "id": "AbJlkvxzezAE"
      }
    },
    {
      "cell_type": "code",
      "source": [
        "conf_mat = confusion_matrix(y_test, y_pred)\n",
        "conf_mat"
      ],
      "metadata": {
        "colab": {
          "base_uri": "https://localhost:8080/"
        },
        "id": "vLGUwDebfrqM",
        "outputId": "2b4257db-bc80-404f-b545-cbde21321ce2"
      },
      "execution_count": 41,
      "outputs": [
        {
          "output_type": "execute_result",
          "data": {
            "text/plain": [
              "array([[ 968,    0,    0,    2,    0,    2,    6,    1,    1,    0],\n",
              "       [   0, 1117,    2,    2,    0,    0,    4,    1,    9,    0],\n",
              "       [   8,    1,  964,   15,    7,    1,    9,    9,   16,    2],\n",
              "       [   3,    1,    7,  964,    0,    6,    1,    8,   11,    9],\n",
              "       [   1,    1,    6,    0,  929,    0,   10,    2,    4,   29],\n",
              "       [  13,    2,    1,   31,    1,  812,   14,    1,   10,    7],\n",
              "       [   9,    3,    2,    1,    7,    8,  924,    1,    3,    0],\n",
              "       [   2,    6,   20,    3,    4,    0,    0,  967,    4,   22],\n",
              "       [   6,    3,    1,   21,    5,    9,   10,    6,  905,    8],\n",
              "       [   9,    6,    1,   12,   18,    1,    1,    8,    5,  948]])"
            ]
          },
          "metadata": {},
          "execution_count": 41
        }
      ]
    },
    {
      "cell_type": "code",
      "source": [
        " conf_mat.sum(1)# sütun bazında toplama"
      ],
      "metadata": {
        "colab": {
          "base_uri": "https://localhost:8080/"
        },
        "id": "Sqi8sldxf5b3",
        "outputId": "6dde487c-e293-4e9c-b9a0-01925ad39f7b"
      },
      "execution_count": 44,
      "outputs": [
        {
          "output_type": "execute_result",
          "data": {
            "text/plain": [
              "array([ 980, 1135, 1032, 1010,  982,  892,  958, 1028,  974, 1009])"
            ]
          },
          "metadata": {},
          "execution_count": 44
        }
      ]
    },
    {
      "cell_type": "code",
      "source": [
        "# TN ve TP alıyoruz sadece\n",
        "confusion_matrix(y_test, y_pred).diagonal()\n"
      ],
      "metadata": {
        "colab": {
          "base_uri": "https://localhost:8080/"
        },
        "id": "qyEPcudQftjy",
        "outputId": "5fe632f3-e489-441f-8e5b-d5e2acd260d8"
      },
      "execution_count": 42,
      "outputs": [
        {
          "output_type": "execute_result",
          "data": {
            "text/plain": [
              "array([ 968, 1117,  964,  964,  929,  812,  924,  967,  905,  948])"
            ]
          },
          "metadata": {},
          "execution_count": 42
        }
      ]
    },
    {
      "cell_type": "code",
      "source": [
        "conf_mat = confusion_matrix(y_test, y_pred)\n",
        "\n",
        "# 100* doğru tahmin / sınıf bazında toplamı\n",
        "class_accuracy = 100 * conf_mat.diagonal() / conf_mat.sum(1)\n",
        "\n",
        "for (i,ca) in enumerate(class_accuracy):\n",
        "    print(f'Accuracy for {i} : {ca:.3f}%')"
      ],
      "metadata": {
        "colab": {
          "base_uri": "https://localhost:8080/"
        },
        "id": "DoL3N7Q7eX2H",
        "outputId": "028e68e3-913a-483b-81dc-79ec8acb5ccb"
      },
      "execution_count": 38,
      "outputs": [
        {
          "output_type": "stream",
          "name": "stdout",
          "text": [
            "Accuracy for 0 : 98.776%\n",
            "Accuracy for 1 : 98.414%\n",
            "Accuracy for 2 : 93.411%\n",
            "Accuracy for 3 : 95.446%\n",
            "Accuracy for 4 : 94.603%\n",
            "Accuracy for 5 : 91.031%\n",
            "Accuracy for 6 : 96.451%\n",
            "Accuracy for 7 : 94.066%\n",
            "Accuracy for 8 : 92.916%\n",
            "Accuracy for 9 : 93.954%\n"
          ]
        }
      ]
    },
    {
      "cell_type": "code",
      "source": [
        "from sklearn.metrics import classification_report\n",
        "\n",
        "print(classification_report(y_test, y_pred))"
      ],
      "metadata": {
        "colab": {
          "base_uri": "https://localhost:8080/"
        },
        "id": "lO3c8XO7eXzA",
        "outputId": "17a7e93e-9c70-4e9d-de45-69ea46c1e86d"
      },
      "execution_count": 39,
      "outputs": [
        {
          "output_type": "stream",
          "name": "stdout",
          "text": [
            "              precision    recall  f1-score   support\n",
            "\n",
            "           0       0.95      0.99      0.97       980\n",
            "           1       0.98      0.98      0.98      1135\n",
            "           2       0.96      0.93      0.95      1032\n",
            "           3       0.92      0.95      0.94      1010\n",
            "           4       0.96      0.95      0.95       982\n",
            "           5       0.97      0.91      0.94       892\n",
            "           6       0.94      0.96      0.95       958\n",
            "           7       0.96      0.94      0.95      1028\n",
            "           8       0.93      0.93      0.93       974\n",
            "           9       0.92      0.94      0.93      1009\n",
            "\n",
            "    accuracy                           0.95     10000\n",
            "   macro avg       0.95      0.95      0.95     10000\n",
            "weighted avg       0.95      0.95      0.95     10000\n",
            "\n"
          ]
        }
      ]
    },
    {
      "cell_type": "markdown",
      "source": [
        "**Precision (Kesinlik) – Tahminlerinizin yüzde kaçı doğruydu?**\n",
        "\n",
        "Kesinlik, bir sınıflandırıcının aslında negatif olan bir örneği pozitif olarak etiketlememe yeteneğidir. Her sınıf için gerçek pozitiflerin, doğru ve yanlış pozitiflerin toplamına oranı olarak tanımlanır.\n",
        "\n",
        "\n",
        "\n",
        "```\n",
        "TP – True Positives\n",
        "FP – False Positives\n",
        "\n",
        "Precision – Olumlu tahminlerin doğruluğu.\n",
        "Precision = TP/(TP + FP)\n",
        "```\n",
        "\n",
        "**Recall – Pozitif vakaların yüzde kaçını yakaladınız?**\n",
        "\n",
        "Recall  bir sınıflandırıcının tüm olumlu örnekleri bulma yeteneğidir. Her sınıf için, gerçek pozitiflerin, gerçek pozitiflerin ve yanlış negatiflerin toplamına oranı olarak tanımlanır.\n",
        "\n",
        "\n",
        "\n",
        "\n",
        "```\n",
        "FN – False Negatives\n",
        "\n",
        "Recall: Doğru olarak tanımlanmış pozitiflerin oranı.\n",
        "Recall = TP/(TP+FN)\n",
        "```\n",
        "\n",
        "\n",
        "\n",
        "**F1 Score - Olumlu tahminlerin yüzde kaçı doğruydu?**\n",
        "\n",
        "F 1  skoru, kesinliğin ağırlıklı harmonik ortalamasıdır ve en iyi skor 1.0 ve en kötü 0.0 olacak şekilde hatırlamadır. Genel olarak konuşursak, F 1  puanları kesinlik ve geri çağırmayı hesaplamalarına dahil ettikleri için doğruluk ölçümlerinden daha düşüktür. Genel bir kural olarak,  sınıflandırıcı modellerini karşılaştırmak için global doğruluk yerine F 1'in ağırlıklı ortalaması kullanılmalıdır.\n",
        "\n",
        "\n",
        "\n",
        "```\n",
        "F1 Score = 2*(Recall * Precision) / (Recall + Precision)\n",
        "```\n",
        "\n",
        "\n",
        "\n"
      ],
      "metadata": {
        "id": "bSZ_1EVTfdTN"
      }
    },
    {
      "cell_type": "code",
      "source": [],
      "metadata": {
        "id": "HNEUDZHdeXsm"
      },
      "execution_count": null,
      "outputs": []
    }
  ]
}